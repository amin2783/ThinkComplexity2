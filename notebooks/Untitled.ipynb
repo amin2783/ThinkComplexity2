{
 "cells": [
  {
   "cell_type": "code",
   "execution_count": 2,
   "id": "f76fdd17",
   "metadata": {},
   "outputs": [],
   "source": [
    "import networkx as nx\n",
    "G = nx.DiGraph()\n",
    "\n",
    "G.add_node('Alice')\n",
    "G.add_node('Bob')\n",
    "G.add_node('Chuck')"
   ]
  },
  {
   "cell_type": "code",
   "execution_count": 4,
   "id": "43d2173b",
   "metadata": {},
   "outputs": [
    {
     "data": {
      "text/plain": [
       "['Alice', 'Bob', 'Chuck']"
      ]
     },
     "execution_count": 4,
     "metadata": {},
     "output_type": "execute_result"
    }
   ],
   "source": [
    "list(G.nodes())"
   ]
  }
 ],
 "metadata": {
  "kernelspec": {
   "display_name": "Python 3 (ipykernel)",
   "language": "python",
   "name": "python3"
  },
  "language_info": {
   "codemirror_mode": {
    "name": "ipython",
    "version": 3
   },
   "file_extension": ".py",
   "mimetype": "text/x-python",
   "name": "python",
   "nbconvert_exporter": "python",
   "pygments_lexer": "ipython3",
   "version": "3.7.13"
  }
 },
 "nbformat": 4,
 "nbformat_minor": 5
}
