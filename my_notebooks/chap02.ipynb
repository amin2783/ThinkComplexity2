{
 "cells": [
  {
   "cell_type": "code",
   "execution_count": 40,
   "metadata": {},
   "outputs": [
    {
     "data": {
      "text/plain": [
       "['Alice', 'Bob', 'Chuck']"
      ]
     },
     "execution_count": 40,
     "metadata": {},
     "output_type": "execute_result"
    }
   ],
   "source": [
    "import networkx as nx\n",
    "\n",
    "G = nx.DiGraph()\n",
    "\n",
    "G.add_node('Alice')\n",
    "G.add_node('Bob')\n",
    "G.add_node('Chuck')\n",
    "\n",
    "list(G.nodes())"
   ]
  },
  {
   "cell_type": "code",
   "execution_count": 41,
   "metadata": {},
   "outputs": [
    {
     "data": {
      "text/plain": [
       "[('Alice', 'Bob'), ('Alice', 'Chuck'), ('Bob', 'Alice'), ('Bob', 'Chuck')]"
      ]
     },
     "execution_count": 41,
     "metadata": {},
     "output_type": "execute_result"
    }
   ],
   "source": [
    "G.add_edge('Alice', 'Bob')\n",
    "G.add_edge('Alice', 'Chuck')\n",
    "G.add_edge('Bob', 'Alice')\n",
    "G.add_edge('Bob', 'Chuck')\n",
    "\n",
    "list(G.edges())"
   ]
  },
  {
   "cell_type": "code",
   "execution_count": 42,
   "metadata": {},
   "outputs": [
    {
     "data": {
      "image/png": "[encoded data removed]",
      "text/plain": [
       "<Figure size 432x288 with 1 Axes>"
      ]
     },
     "metadata": {},
     "output_type": "display_data"
    }
   ],
   "source": [
    "nx.draw_circular(G,\n",
    "node_color='red',\n",
    "node_size=2000,\n",
    "with_labels=True)"
   ]
  },
  {
   "cell_type": "code",
   "execution_count": 43,
   "metadata": {},
   "outputs": [],
   "source": [
    "positions = dict(Albany=(-74, 43),\n",
    "Boston=(-71, 42),\n",
    "NYC=(-74, 41),\n",
    "Philly=(-75, 40))\n",
    "\n",
    "G2 = nx.Graph()\n",
    "\n",
    "G2.add_nodes_from(positions)"
   ]
  },
  {
   "cell_type": "code",
   "execution_count": 44,
   "metadata": {},
   "outputs": [],
   "source": [
    "drive_times = {('Albany', 'Boston'): 3,\n",
    "                ('Albany', 'NYC'): 4,\n",
    "                ('Boston', 'NYC'): 4,\n",
    "                ('NYC', 'Philly'): 2}\n",
    "\n",
    "G2.add_edges_from(drive_times)"
   ]
  },
  {
   "cell_type": "code",
   "execution_count": 45,
   "metadata": {},
   "outputs": [
    {
     "data": {
      "text/plain": [
       "{('Albany', 'Boston'): Text(-72.5, 42.5, '3'),\n",
       " ('Albany', 'NYC'): Text(-74.0, 42.0, '4'),\n",
       " ('Boston', 'NYC'): Text(-72.5, 41.5, '4'),\n",
       " ('NYC', 'Philly'): Text(-74.5, 40.5, '2')}"
      ]
     },
     "execution_count": 45,
     "metadata": {},
     "output_type": "execute_result"
    },
    {
     "data": {
      "image/png": "[encoded data removed]",
      "text/plain": [
       "<Figure size 432x288 with 1 Axes>"
      ]
     },
     "metadata": {},
     "output_type": "display_data"
    }
   ],
   "source": [
    "nx.draw(G2, positions,\n",
    "node_color='green',\n",
    "node_shape='s',\n",
    "node_size=2500,\n",
    "with_labels=True)\n",
    "\n",
    "nx.draw_networkx_edge_labels(G2, positions,\n",
    "                                edge_labels=drive_times)"
   ]
  },
  {
   "cell_type": "code",
   "execution_count": null,
   "metadata": {},
   "outputs": [],
   "source": [
    "def all"
   ]
  }
 ],
 "metadata": {
  "kernelspec": {
   "display_name": "Python 3.10.5 64-bit",
   "language": "python",
   "name": "python3"
  },
  "language_info": {
   "codemirror_mode": {
    "name": "ipython",
    "version": 3
   },
   "file_extension": ".py",
   "mimetype": "text/x-python",
   "name": "python",
   "nbconvert_exporter": "python",
   "pygments_lexer": "ipython3",
   "version": "3.10.5"
  },
  "orig_nbformat": 4,
  "vscode": {
   "interpreter": {
    "hash": "8b326783ca2cadf5cce562b229ae42ae847d50cc537a98df443ed59bb317e02f"
   }
  }
 },
 "nbformat": 4,
 "nbformat_minor": 2
}
